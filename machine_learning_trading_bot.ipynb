{
 "cells": [
  {
   "cell_type": "markdown",
   "metadata": {},
   "source": [
    "# Machine Learning Trading Bot\n",
    "\n",
    "In this Challenge, you’ll assume the role of a financial advisor at one of the top five financial advisory firms in the world. Your firm constantly competes with the other major firms to manage and automatically trade assets in a highly dynamic environment. In recent years, your firm has heavily profited by using computer algorithms that can buy and sell faster than human traders.\n",
    "\n",
    "The speed of these transactions gave your firm a competitive advantage early on. But, people still need to specifically program these systems, which limits their ability to adapt to new data. You’re thus planning to improve the existing algorithmic trading systems and maintain the firm’s competitive advantage in the market. To do so, you’ll enhance the existing trading signals with machine learning algorithms that can adapt to new data.\n",
    "\n",
    "## Instructions:\n",
    "\n",
    "Use the starter code file to complete the steps that the instructions outline. The steps for this Challenge are divided into the following sections:\n",
    "\n",
    "* Establish a Baseline Performance\n",
    "\n",
    "* Tune the Baseline Trading Algorithm\n",
    "\n",
    "* Evaluate a New Machine Learning Classifier\n",
    "\n",
    "* Create an Evaluation Report\n",
    "\n",
    "#### Establish a Baseline Performance\n",
    "\n",
    "In this section, you’ll run the provided starter code to establish a baseline performance for the trading algorithm. To do so, complete the following steps.\n",
    "\n",
    "Open the Jupyter notebook. Restart the kernel, run the provided cells that correspond with the first three steps, and then proceed to step four. \n",
    "\n",
    "1. Import the OHLCV dataset into a Pandas DataFrame.\n",
    "\n",
    "2. Generate trading signals using short- and long-window SMA values. \n",
    "\n",
    "3. Split the data into training and testing datasets.\n",
    "\n",
    "4. Use the `SVC` classifier model from SKLearn's support vector machine (SVM) learning method to fit the training data and make predictions based on the testing data. Review the predictions.\n",
    "\n",
    "5. Review the classification report associated with the `SVC` model predictions. \n",
    "\n",
    "6. Create a predictions DataFrame that contains columns for “Predicted” values, “Actual Returns”, and “Strategy Returns”.\n",
    "\n",
    "7. Create a cumulative return plot that shows the actual returns vs. the strategy returns. Save a PNG image of this plot. This will serve as a baseline against which to compare the effects of tuning the trading algorithm.\n",
    "\n",
    "8. Write your conclusions about the performance of the baseline trading algorithm in the `README.md` file that’s associated with your GitHub repository. Support your findings by using the PNG image that you saved in the previous step.\n",
    "\n",
    "#### Tune the Baseline Trading Algorithm\n",
    "\n",
    "In this section, you’ll tune, or adjust, the model’s input features to find the parameters that result in the best trading outcomes. (You’ll choose the best by comparing the cumulative products of the strategy returns.) To do so, complete the following steps:\n",
    "\n",
    "1. Tune the training algorithm by adjusting the size of the training dataset. To do so, slice your data into different periods. Rerun the notebook with the updated parameters, and record the results in your `README.md` file. Answer the following question: What impact resulted from increasing or decreasing the training window?\n",
    "\n",
    "> **Hint** To adjust the size of the training dataset, you can use a different `DateOffset` value&mdash;for example, six months. Be aware that changing the size of the training dataset also affects the size of the testing dataset.\n",
    "\n",
    "2. Tune the trading algorithm by adjusting the SMA input features. Adjust one or both of the windows for the algorithm. Rerun the notebook with the updated parameters, and record the results in your `README.md` file. Answer the following question: What impact resulted from increasing or decreasing either or both of the SMA windows?\n",
    "\n",
    "3. Choose the set of parameters that best improved the trading algorithm returns. Save a PNG image of the cumulative product of the actual returns vs. the strategy returns, and document your conclusion in your `README.md` file.\n",
    "\n",
    "#### Evaluate a New Machine Learning Classifier\n",
    "\n",
    "In this section, you’ll use the original parameters that the starter code provided. But, you’ll apply them to the performance of a second machine learning model. To do so, complete the following steps:\n",
    "\n",
    "1. Import a new classifier, such as `AdaBoost`, `DecisionTreeClassifier`, or `LogisticRegression`. (For the full list of classifiers, refer to the [Supervised learning page](https://scikit-learn.org/stable/supervised_learning.html) in the scikit-learn documentation.)\n",
    "\n",
    "2. Using the original training data as the baseline model, fit another model with the new classifier.\n",
    "\n",
    "3. Backtest the new model to evaluate its performance. Save a PNG image of the cumulative product of the actual returns vs. the strategy returns for this updated trading algorithm, and write your conclusions in your `README.md` file. Answer the following questions: Did this new model perform better or worse than the provided baseline model? Did this new model perform better or worse than your tuned trading algorithm?\n",
    "\n",
    "#### Create an Evaluation Report\n",
    "\n",
    "In the previous sections, you updated your `README.md` file with your conclusions. To accomplish this section, you need to add a summary evaluation report at the end of the `README.md` file. For this report, express your final conclusions and analysis. Support your findings by using the PNG images that you created.\n"
   ]
  },
  {
   "cell_type": "code",
   "execution_count": 7,
   "metadata": {},
   "outputs": [],
   "source": [
    "# Imports\n",
    "import pandas as pd\n",
    "import numpy as np\n",
    "from pathlib import Path\n",
    "import hvplot.pandas\n",
    "import matplotlib.pyplot as plt\n",
    "from sklearn import svm\n",
    "from sklearn.preprocessing import StandardScaler\n",
    "from pandas.tseries.offsets import DateOffset\n",
    "from sklearn.metrics import classification_report"
   ]
  },
  {
   "cell_type": "markdown",
   "metadata": {},
   "source": [
    "---\n",
    "\n",
    "## Establish a Baseline Performance\n",
    "\n",
    "In this section, you’ll run the provided starter code to establish a baseline performance for the trading algorithm. To do so, complete the following steps.\n",
    "\n",
    "Open the Jupyter notebook. Restart the kernel, run the provided cells that correspond with the first three steps, and then proceed to step four. \n"
   ]
  },
  {
   "cell_type": "markdown",
   "metadata": {},
   "source": [
    "### Step 1: Import the OHLCV dataset into a Pandas DataFrame."
   ]
  },
  {
   "cell_type": "code",
   "execution_count": 12,
   "metadata": {},
   "outputs": [
    {
     "name": "stderr",
     "output_type": "stream",
     "text": [
      "/tmp/ipykernel_167/2526364910.py:2: FutureWarning: The argument 'infer_datetime_format' is deprecated and will be removed in a future version. A strict version of it is now the default, see https://pandas.pydata.org/pdeps/0004-consistent-to-datetime-parsing.html. You can safely remove this argument.\n",
      "  ohlcv_df = pd.read_csv(\n",
      "/tmp/ipykernel_167/2526364910.py:2: UserWarning: Could not infer format, so each element will be parsed individually, falling back to `dateutil`. To ensure parsing is consistent and as-expected, please specify a format.\n",
      "  ohlcv_df = pd.read_csv(\n"
     ]
    },
    {
     "data": {
      "text/html": [
       "<div>\n",
       "<style scoped>\n",
       "    .dataframe tbody tr th:only-of-type {\n",
       "        vertical-align: middle;\n",
       "    }\n",
       "\n",
       "    .dataframe tbody tr th {\n",
       "        vertical-align: top;\n",
       "    }\n",
       "\n",
       "    .dataframe thead th {\n",
       "        text-align: right;\n",
       "    }\n",
       "</style>\n",
       "<table border=\"1\" class=\"dataframe\">\n",
       "  <thead>\n",
       "    <tr style=\"text-align: right;\">\n",
       "      <th></th>\n",
       "      <th>open</th>\n",
       "      <th>high</th>\n",
       "      <th>low</th>\n",
       "      <th>close</th>\n",
       "      <th>volume</th>\n",
       "    </tr>\n",
       "    <tr>\n",
       "      <th>date</th>\n",
       "      <th></th>\n",
       "      <th></th>\n",
       "      <th></th>\n",
       "      <th></th>\n",
       "      <th></th>\n",
       "    </tr>\n",
       "  </thead>\n",
       "  <tbody>\n",
       "    <tr>\n",
       "      <th>2015-01-21 09:30:00</th>\n",
       "      <td>23.83</td>\n",
       "      <td>23.83</td>\n",
       "      <td>23.83</td>\n",
       "      <td>23.83</td>\n",
       "      <td>100</td>\n",
       "    </tr>\n",
       "    <tr>\n",
       "      <th>2015-01-21 11:00:00</th>\n",
       "      <td>23.98</td>\n",
       "      <td>23.98</td>\n",
       "      <td>23.98</td>\n",
       "      <td>23.98</td>\n",
       "      <td>100</td>\n",
       "    </tr>\n",
       "    <tr>\n",
       "      <th>2015-01-22 15:00:00</th>\n",
       "      <td>24.42</td>\n",
       "      <td>24.42</td>\n",
       "      <td>24.42</td>\n",
       "      <td>24.42</td>\n",
       "      <td>100</td>\n",
       "    </tr>\n",
       "    <tr>\n",
       "      <th>2015-01-22 15:15:00</th>\n",
       "      <td>24.42</td>\n",
       "      <td>24.44</td>\n",
       "      <td>24.42</td>\n",
       "      <td>24.44</td>\n",
       "      <td>200</td>\n",
       "    </tr>\n",
       "    <tr>\n",
       "      <th>2015-01-22 15:30:00</th>\n",
       "      <td>24.46</td>\n",
       "      <td>24.46</td>\n",
       "      <td>24.46</td>\n",
       "      <td>24.46</td>\n",
       "      <td>200</td>\n",
       "    </tr>\n",
       "  </tbody>\n",
       "</table>\n",
       "</div>"
      ],
      "text/plain": [
       "                      open   high    low  close  volume\n",
       "date                                                   \n",
       "2015-01-21 09:30:00  23.83  23.83  23.83  23.83     100\n",
       "2015-01-21 11:00:00  23.98  23.98  23.98  23.98     100\n",
       "2015-01-22 15:00:00  24.42  24.42  24.42  24.42     100\n",
       "2015-01-22 15:15:00  24.42  24.44  24.42  24.44     200\n",
       "2015-01-22 15:30:00  24.46  24.46  24.46  24.46     200"
      ]
     },
     "execution_count": 12,
     "metadata": {},
     "output_type": "execute_result"
    }
   ],
   "source": [
    "# Import the OHLCV dataset into a Pandas Dataframe\n",
    "ohlcv_df = pd.read_csv(\n",
    "    Path(\"/home/93727b7a-62c7-4c05-a0bc-cd8b46e24a00/Untitled Folder/emerging_markets_ohlcv.csv\"), \n",
    "    index_col='date', \n",
    "    infer_datetime_format=True, \n",
    "    parse_dates=True\n",
    ")\n",
    "\n",
    "# Review the DataFrame\n",
    "ohlcv_df.head()"
   ]
  },
  {
   "cell_type": "code",
   "execution_count": 14,
   "metadata": {},
   "outputs": [
    {
     "data": {
      "text/html": [
       "<div>\n",
       "<style scoped>\n",
       "    .dataframe tbody tr th:only-of-type {\n",
       "        vertical-align: middle;\n",
       "    }\n",
       "\n",
       "    .dataframe tbody tr th {\n",
       "        vertical-align: top;\n",
       "    }\n",
       "\n",
       "    .dataframe thead th {\n",
       "        text-align: right;\n",
       "    }\n",
       "</style>\n",
       "<table border=\"1\" class=\"dataframe\">\n",
       "  <thead>\n",
       "    <tr style=\"text-align: right;\">\n",
       "      <th></th>\n",
       "      <th>close</th>\n",
       "      <th>Actual Returns</th>\n",
       "    </tr>\n",
       "    <tr>\n",
       "      <th>date</th>\n",
       "      <th></th>\n",
       "      <th></th>\n",
       "    </tr>\n",
       "  </thead>\n",
       "  <tbody>\n",
       "    <tr>\n",
       "      <th>2015-01-21 11:00:00</th>\n",
       "      <td>23.98</td>\n",
       "      <td>0.006295</td>\n",
       "    </tr>\n",
       "    <tr>\n",
       "      <th>2015-01-22 15:00:00</th>\n",
       "      <td>24.42</td>\n",
       "      <td>0.018349</td>\n",
       "    </tr>\n",
       "    <tr>\n",
       "      <th>2015-01-22 15:15:00</th>\n",
       "      <td>24.44</td>\n",
       "      <td>0.000819</td>\n",
       "    </tr>\n",
       "    <tr>\n",
       "      <th>2015-01-22 15:30:00</th>\n",
       "      <td>24.46</td>\n",
       "      <td>0.000818</td>\n",
       "    </tr>\n",
       "    <tr>\n",
       "      <th>2015-01-26 12:30:00</th>\n",
       "      <td>24.33</td>\n",
       "      <td>-0.005315</td>\n",
       "    </tr>\n",
       "  </tbody>\n",
       "</table>\n",
       "</div>"
      ],
      "text/plain": [
       "                     close  Actual Returns\n",
       "date                                      \n",
       "2015-01-21 11:00:00  23.98        0.006295\n",
       "2015-01-22 15:00:00  24.42        0.018349\n",
       "2015-01-22 15:15:00  24.44        0.000819\n",
       "2015-01-22 15:30:00  24.46        0.000818\n",
       "2015-01-26 12:30:00  24.33       -0.005315"
      ]
     },
     "metadata": {},
     "output_type": "display_data"
    },
    {
     "data": {
      "text/html": [
       "<div>\n",
       "<style scoped>\n",
       "    .dataframe tbody tr th:only-of-type {\n",
       "        vertical-align: middle;\n",
       "    }\n",
       "\n",
       "    .dataframe tbody tr th {\n",
       "        vertical-align: top;\n",
       "    }\n",
       "\n",
       "    .dataframe thead th {\n",
       "        text-align: right;\n",
       "    }\n",
       "</style>\n",
       "<table border=\"1\" class=\"dataframe\">\n",
       "  <thead>\n",
       "    <tr style=\"text-align: right;\">\n",
       "      <th></th>\n",
       "      <th>close</th>\n",
       "      <th>Actual Returns</th>\n",
       "    </tr>\n",
       "    <tr>\n",
       "      <th>date</th>\n",
       "      <th></th>\n",
       "      <th></th>\n",
       "    </tr>\n",
       "  </thead>\n",
       "  <tbody>\n",
       "    <tr>\n",
       "      <th>2021-01-22 09:30:00</th>\n",
       "      <td>33.27</td>\n",
       "      <td>-0.006866</td>\n",
       "    </tr>\n",
       "    <tr>\n",
       "      <th>2021-01-22 11:30:00</th>\n",
       "      <td>33.35</td>\n",
       "      <td>0.002405</td>\n",
       "    </tr>\n",
       "    <tr>\n",
       "      <th>2021-01-22 13:45:00</th>\n",
       "      <td>33.42</td>\n",
       "      <td>0.002099</td>\n",
       "    </tr>\n",
       "    <tr>\n",
       "      <th>2021-01-22 14:30:00</th>\n",
       "      <td>33.47</td>\n",
       "      <td>0.001496</td>\n",
       "    </tr>\n",
       "    <tr>\n",
       "      <th>2021-01-22 15:45:00</th>\n",
       "      <td>33.44</td>\n",
       "      <td>-0.000896</td>\n",
       "    </tr>\n",
       "  </tbody>\n",
       "</table>\n",
       "</div>"
      ],
      "text/plain": [
       "                     close  Actual Returns\n",
       "date                                      \n",
       "2021-01-22 09:30:00  33.27       -0.006866\n",
       "2021-01-22 11:30:00  33.35        0.002405\n",
       "2021-01-22 13:45:00  33.42        0.002099\n",
       "2021-01-22 14:30:00  33.47        0.001496\n",
       "2021-01-22 15:45:00  33.44       -0.000896"
      ]
     },
     "metadata": {},
     "output_type": "display_data"
    }
   ],
   "source": [
    "# Filter the date index and close columns\n",
    "signals_df = ohlcv_df.loc[:, [\"close\"]]\n",
    "\n",
    "# Use the pct_change function to generate returns from close prices\n",
    "signals_df[\"Actual Returns\"] = signals_df[\"close\"].pct_change()\n",
    "\n",
    "# Drop all NaN values from the DataFrame\n",
    "signals_df = signals_df.dropna()\n",
    "\n",
    "# Review the DataFrame\n",
    "display(signals_df.head())\n",
    "display(signals_df.tail())"
   ]
  },
  {
   "cell_type": "markdown",
   "metadata": {},
   "source": [
    "## Step 2: Generate trading signals using short- and long-window SMA values. "
   ]
  },
  {
   "cell_type": "code",
   "execution_count": 16,
   "metadata": {},
   "outputs": [
    {
     "data": {
      "text/html": [
       "<div>\n",
       "<style scoped>\n",
       "    .dataframe tbody tr th:only-of-type {\n",
       "        vertical-align: middle;\n",
       "    }\n",
       "\n",
       "    .dataframe tbody tr th {\n",
       "        vertical-align: top;\n",
       "    }\n",
       "\n",
       "    .dataframe thead th {\n",
       "        text-align: right;\n",
       "    }\n",
       "</style>\n",
       "<table border=\"1\" class=\"dataframe\">\n",
       "  <thead>\n",
       "    <tr style=\"text-align: right;\">\n",
       "      <th></th>\n",
       "      <th>close</th>\n",
       "      <th>Actual Returns</th>\n",
       "      <th>SMA_Fast</th>\n",
       "      <th>SMA_Slow</th>\n",
       "    </tr>\n",
       "    <tr>\n",
       "      <th>date</th>\n",
       "      <th></th>\n",
       "      <th></th>\n",
       "      <th></th>\n",
       "      <th></th>\n",
       "    </tr>\n",
       "  </thead>\n",
       "  <tbody>\n",
       "    <tr>\n",
       "      <th>2015-04-02 14:45:00</th>\n",
       "      <td>24.92</td>\n",
       "      <td>0.000000</td>\n",
       "      <td>24.9175</td>\n",
       "      <td>24.3214</td>\n",
       "    </tr>\n",
       "    <tr>\n",
       "      <th>2015-04-02 15:00:00</th>\n",
       "      <td>24.92</td>\n",
       "      <td>0.000000</td>\n",
       "      <td>24.9200</td>\n",
       "      <td>24.3308</td>\n",
       "    </tr>\n",
       "    <tr>\n",
       "      <th>2015-04-02 15:15:00</th>\n",
       "      <td>24.94</td>\n",
       "      <td>0.000803</td>\n",
       "      <td>24.9250</td>\n",
       "      <td>24.3360</td>\n",
       "    </tr>\n",
       "    <tr>\n",
       "      <th>2015-04-02 15:30:00</th>\n",
       "      <td>24.95</td>\n",
       "      <td>0.000401</td>\n",
       "      <td>24.9325</td>\n",
       "      <td>24.3411</td>\n",
       "    </tr>\n",
       "    <tr>\n",
       "      <th>2015-04-02 15:45:00</th>\n",
       "      <td>24.98</td>\n",
       "      <td>0.001202</td>\n",
       "      <td>24.9475</td>\n",
       "      <td>24.3463</td>\n",
       "    </tr>\n",
       "  </tbody>\n",
       "</table>\n",
       "</div>"
      ],
      "text/plain": [
       "                     close  Actual Returns  SMA_Fast  SMA_Slow\n",
       "date                                                          \n",
       "2015-04-02 14:45:00  24.92        0.000000   24.9175   24.3214\n",
       "2015-04-02 15:00:00  24.92        0.000000   24.9200   24.3308\n",
       "2015-04-02 15:15:00  24.94        0.000803   24.9250   24.3360\n",
       "2015-04-02 15:30:00  24.95        0.000401   24.9325   24.3411\n",
       "2015-04-02 15:45:00  24.98        0.001202   24.9475   24.3463"
      ]
     },
     "metadata": {},
     "output_type": "display_data"
    },
    {
     "data": {
      "text/html": [
       "<div>\n",
       "<style scoped>\n",
       "    .dataframe tbody tr th:only-of-type {\n",
       "        vertical-align: middle;\n",
       "    }\n",
       "\n",
       "    .dataframe tbody tr th {\n",
       "        vertical-align: top;\n",
       "    }\n",
       "\n",
       "    .dataframe thead th {\n",
       "        text-align: right;\n",
       "    }\n",
       "</style>\n",
       "<table border=\"1\" class=\"dataframe\">\n",
       "  <thead>\n",
       "    <tr style=\"text-align: right;\">\n",
       "      <th></th>\n",
       "      <th>close</th>\n",
       "      <th>Actual Returns</th>\n",
       "      <th>SMA_Fast</th>\n",
       "      <th>SMA_Slow</th>\n",
       "    </tr>\n",
       "    <tr>\n",
       "      <th>date</th>\n",
       "      <th></th>\n",
       "      <th></th>\n",
       "      <th></th>\n",
       "      <th></th>\n",
       "    </tr>\n",
       "  </thead>\n",
       "  <tbody>\n",
       "    <tr>\n",
       "      <th>2021-01-22 09:30:00</th>\n",
       "      <td>33.27</td>\n",
       "      <td>-0.006866</td>\n",
       "      <td>33.2025</td>\n",
       "      <td>30.40215</td>\n",
       "    </tr>\n",
       "    <tr>\n",
       "      <th>2021-01-22 11:30:00</th>\n",
       "      <td>33.35</td>\n",
       "      <td>0.002405</td>\n",
       "      <td>33.2725</td>\n",
       "      <td>30.44445</td>\n",
       "    </tr>\n",
       "    <tr>\n",
       "      <th>2021-01-22 13:45:00</th>\n",
       "      <td>33.42</td>\n",
       "      <td>0.002099</td>\n",
       "      <td>33.3850</td>\n",
       "      <td>30.48745</td>\n",
       "    </tr>\n",
       "    <tr>\n",
       "      <th>2021-01-22 14:30:00</th>\n",
       "      <td>33.47</td>\n",
       "      <td>0.001496</td>\n",
       "      <td>33.3775</td>\n",
       "      <td>30.53085</td>\n",
       "    </tr>\n",
       "    <tr>\n",
       "      <th>2021-01-22 15:45:00</th>\n",
       "      <td>33.44</td>\n",
       "      <td>-0.000896</td>\n",
       "      <td>33.4200</td>\n",
       "      <td>30.57495</td>\n",
       "    </tr>\n",
       "  </tbody>\n",
       "</table>\n",
       "</div>"
      ],
      "text/plain": [
       "                     close  Actual Returns  SMA_Fast  SMA_Slow\n",
       "date                                                          \n",
       "2021-01-22 09:30:00  33.27       -0.006866   33.2025  30.40215\n",
       "2021-01-22 11:30:00  33.35        0.002405   33.2725  30.44445\n",
       "2021-01-22 13:45:00  33.42        0.002099   33.3850  30.48745\n",
       "2021-01-22 14:30:00  33.47        0.001496   33.3775  30.53085\n",
       "2021-01-22 15:45:00  33.44       -0.000896   33.4200  30.57495"
      ]
     },
     "metadata": {},
     "output_type": "display_data"
    }
   ],
   "source": [
    "# Set the short window and long window\n",
    "short_window = 4\n",
    "long_window = 100\n",
    "\n",
    "# Generate the fast and slow simple moving averages (4 and 100 days, respectively)\n",
    "signals_df['SMA_Fast'] = signals_df['close'].rolling(window=short_window).mean()\n",
    "signals_df['SMA_Slow'] = signals_df['close'].rolling(window=long_window).mean()\n",
    "\n",
    "signals_df = signals_df.dropna()\n",
    "\n",
    "# Review the DataFrame\n",
    "display(signals_df.head())\n",
    "display(signals_df.tail())"
   ]
  },
  {
   "cell_type": "code",
   "execution_count": 18,
   "metadata": {},
   "outputs": [
    {
     "data": {
      "text/html": [
       "<div>\n",
       "<style scoped>\n",
       "    .dataframe tbody tr th:only-of-type {\n",
       "        vertical-align: middle;\n",
       "    }\n",
       "\n",
       "    .dataframe tbody tr th {\n",
       "        vertical-align: top;\n",
       "    }\n",
       "\n",
       "    .dataframe thead th {\n",
       "        text-align: right;\n",
       "    }\n",
       "</style>\n",
       "<table border=\"1\" class=\"dataframe\">\n",
       "  <thead>\n",
       "    <tr style=\"text-align: right;\">\n",
       "      <th></th>\n",
       "      <th>close</th>\n",
       "      <th>Actual Returns</th>\n",
       "      <th>SMA_Fast</th>\n",
       "      <th>SMA_Slow</th>\n",
       "      <th>Signal</th>\n",
       "    </tr>\n",
       "    <tr>\n",
       "      <th>date</th>\n",
       "      <th></th>\n",
       "      <th></th>\n",
       "      <th></th>\n",
       "      <th></th>\n",
       "      <th></th>\n",
       "    </tr>\n",
       "  </thead>\n",
       "  <tbody>\n",
       "    <tr>\n",
       "      <th>2015-04-02 14:45:00</th>\n",
       "      <td>24.92</td>\n",
       "      <td>0.000000</td>\n",
       "      <td>24.9175</td>\n",
       "      <td>24.3214</td>\n",
       "      <td>1.0</td>\n",
       "    </tr>\n",
       "    <tr>\n",
       "      <th>2015-04-02 15:00:00</th>\n",
       "      <td>24.92</td>\n",
       "      <td>0.000000</td>\n",
       "      <td>24.9200</td>\n",
       "      <td>24.3308</td>\n",
       "      <td>1.0</td>\n",
       "    </tr>\n",
       "    <tr>\n",
       "      <th>2015-04-02 15:15:00</th>\n",
       "      <td>24.94</td>\n",
       "      <td>0.000803</td>\n",
       "      <td>24.9250</td>\n",
       "      <td>24.3360</td>\n",
       "      <td>1.0</td>\n",
       "    </tr>\n",
       "    <tr>\n",
       "      <th>2015-04-02 15:30:00</th>\n",
       "      <td>24.95</td>\n",
       "      <td>0.000401</td>\n",
       "      <td>24.9325</td>\n",
       "      <td>24.3411</td>\n",
       "      <td>1.0</td>\n",
       "    </tr>\n",
       "    <tr>\n",
       "      <th>2015-04-02 15:45:00</th>\n",
       "      <td>24.98</td>\n",
       "      <td>0.001202</td>\n",
       "      <td>24.9475</td>\n",
       "      <td>24.3463</td>\n",
       "      <td>1.0</td>\n",
       "    </tr>\n",
       "  </tbody>\n",
       "</table>\n",
       "</div>"
      ],
      "text/plain": [
       "                     close  Actual Returns  SMA_Fast  SMA_Slow  Signal\n",
       "date                                                                  \n",
       "2015-04-02 14:45:00  24.92        0.000000   24.9175   24.3214     1.0\n",
       "2015-04-02 15:00:00  24.92        0.000000   24.9200   24.3308     1.0\n",
       "2015-04-02 15:15:00  24.94        0.000803   24.9250   24.3360     1.0\n",
       "2015-04-02 15:30:00  24.95        0.000401   24.9325   24.3411     1.0\n",
       "2015-04-02 15:45:00  24.98        0.001202   24.9475   24.3463     1.0"
      ]
     },
     "metadata": {},
     "output_type": "display_data"
    },
    {
     "data": {
      "text/html": [
       "<div>\n",
       "<style scoped>\n",
       "    .dataframe tbody tr th:only-of-type {\n",
       "        vertical-align: middle;\n",
       "    }\n",
       "\n",
       "    .dataframe tbody tr th {\n",
       "        vertical-align: top;\n",
       "    }\n",
       "\n",
       "    .dataframe thead th {\n",
       "        text-align: right;\n",
       "    }\n",
       "</style>\n",
       "<table border=\"1\" class=\"dataframe\">\n",
       "  <thead>\n",
       "    <tr style=\"text-align: right;\">\n",
       "      <th></th>\n",
       "      <th>close</th>\n",
       "      <th>Actual Returns</th>\n",
       "      <th>SMA_Fast</th>\n",
       "      <th>SMA_Slow</th>\n",
       "      <th>Signal</th>\n",
       "    </tr>\n",
       "    <tr>\n",
       "      <th>date</th>\n",
       "      <th></th>\n",
       "      <th></th>\n",
       "      <th></th>\n",
       "      <th></th>\n",
       "      <th></th>\n",
       "    </tr>\n",
       "  </thead>\n",
       "  <tbody>\n",
       "    <tr>\n",
       "      <th>2021-01-22 09:30:00</th>\n",
       "      <td>33.27</td>\n",
       "      <td>-0.006866</td>\n",
       "      <td>33.2025</td>\n",
       "      <td>30.40215</td>\n",
       "      <td>-1.0</td>\n",
       "    </tr>\n",
       "    <tr>\n",
       "      <th>2021-01-22 11:30:00</th>\n",
       "      <td>33.35</td>\n",
       "      <td>0.002405</td>\n",
       "      <td>33.2725</td>\n",
       "      <td>30.44445</td>\n",
       "      <td>1.0</td>\n",
       "    </tr>\n",
       "    <tr>\n",
       "      <th>2021-01-22 13:45:00</th>\n",
       "      <td>33.42</td>\n",
       "      <td>0.002099</td>\n",
       "      <td>33.3850</td>\n",
       "      <td>30.48745</td>\n",
       "      <td>1.0</td>\n",
       "    </tr>\n",
       "    <tr>\n",
       "      <th>2021-01-22 14:30:00</th>\n",
       "      <td>33.47</td>\n",
       "      <td>0.001496</td>\n",
       "      <td>33.3775</td>\n",
       "      <td>30.53085</td>\n",
       "      <td>1.0</td>\n",
       "    </tr>\n",
       "    <tr>\n",
       "      <th>2021-01-22 15:45:00</th>\n",
       "      <td>33.44</td>\n",
       "      <td>-0.000896</td>\n",
       "      <td>33.4200</td>\n",
       "      <td>30.57495</td>\n",
       "      <td>-1.0</td>\n",
       "    </tr>\n",
       "  </tbody>\n",
       "</table>\n",
       "</div>"
      ],
      "text/plain": [
       "                     close  Actual Returns  SMA_Fast  SMA_Slow  Signal\n",
       "date                                                                  \n",
       "2021-01-22 09:30:00  33.27       -0.006866   33.2025  30.40215    -1.0\n",
       "2021-01-22 11:30:00  33.35        0.002405   33.2725  30.44445     1.0\n",
       "2021-01-22 13:45:00  33.42        0.002099   33.3850  30.48745     1.0\n",
       "2021-01-22 14:30:00  33.47        0.001496   33.3775  30.53085     1.0\n",
       "2021-01-22 15:45:00  33.44       -0.000896   33.4200  30.57495    -1.0"
      ]
     },
     "metadata": {},
     "output_type": "display_data"
    }
   ],
   "source": [
    "# Initialize the new Signal column\n",
    "signals_df['Signal'] = 0.0\n",
    "\n",
    "# When Actual Returns are greater than or equal to 0, generate signal to buy stock long\n",
    "signals_df.loc[(signals_df['Actual Returns'] >= 0), 'Signal'] = 1\n",
    "\n",
    "# When Actual Returns are less than 0, generate signal to sell stock short\n",
    "signals_df.loc[(signals_df['Actual Returns'] < 0), 'Signal'] = -1\n",
    "\n",
    "# Review the DataFrame\n",
    "display(signals_df.head())\n",
    "display(signals_df.tail())"
   ]
  },
  {
   "cell_type": "code",
   "execution_count": 20,
   "metadata": {},
   "outputs": [
    {
     "data": {
      "text/plain": [
       "Signal\n",
       " 1.0    2368\n",
       "-1.0    1855\n",
       "Name: count, dtype: int64"
      ]
     },
     "execution_count": 20,
     "metadata": {},
     "output_type": "execute_result"
    }
   ],
   "source": [
    "signals_df['Signal'].value_counts()"
   ]
  },
  {
   "cell_type": "code",
   "execution_count": 22,
   "metadata": {},
   "outputs": [
    {
     "data": {
      "text/html": [
       "<div>\n",
       "<style scoped>\n",
       "    .dataframe tbody tr th:only-of-type {\n",
       "        vertical-align: middle;\n",
       "    }\n",
       "\n",
       "    .dataframe tbody tr th {\n",
       "        vertical-align: top;\n",
       "    }\n",
       "\n",
       "    .dataframe thead th {\n",
       "        text-align: right;\n",
       "    }\n",
       "</style>\n",
       "<table border=\"1\" class=\"dataframe\">\n",
       "  <thead>\n",
       "    <tr style=\"text-align: right;\">\n",
       "      <th></th>\n",
       "      <th>close</th>\n",
       "      <th>Actual Returns</th>\n",
       "      <th>SMA_Fast</th>\n",
       "      <th>SMA_Slow</th>\n",
       "      <th>Signal</th>\n",
       "      <th>Strategy Returns</th>\n",
       "    </tr>\n",
       "    <tr>\n",
       "      <th>date</th>\n",
       "      <th></th>\n",
       "      <th></th>\n",
       "      <th></th>\n",
       "      <th></th>\n",
       "      <th></th>\n",
       "      <th></th>\n",
       "    </tr>\n",
       "  </thead>\n",
       "  <tbody>\n",
       "    <tr>\n",
       "      <th>2015-04-02 14:45:00</th>\n",
       "      <td>24.92</td>\n",
       "      <td>0.000000</td>\n",
       "      <td>24.9175</td>\n",
       "      <td>24.3214</td>\n",
       "      <td>1.0</td>\n",
       "      <td>NaN</td>\n",
       "    </tr>\n",
       "    <tr>\n",
       "      <th>2015-04-02 15:00:00</th>\n",
       "      <td>24.92</td>\n",
       "      <td>0.000000</td>\n",
       "      <td>24.9200</td>\n",
       "      <td>24.3308</td>\n",
       "      <td>1.0</td>\n",
       "      <td>0.000000</td>\n",
       "    </tr>\n",
       "    <tr>\n",
       "      <th>2015-04-02 15:15:00</th>\n",
       "      <td>24.94</td>\n",
       "      <td>0.000803</td>\n",
       "      <td>24.9250</td>\n",
       "      <td>24.3360</td>\n",
       "      <td>1.0</td>\n",
       "      <td>0.000803</td>\n",
       "    </tr>\n",
       "    <tr>\n",
       "      <th>2015-04-02 15:30:00</th>\n",
       "      <td>24.95</td>\n",
       "      <td>0.000401</td>\n",
       "      <td>24.9325</td>\n",
       "      <td>24.3411</td>\n",
       "      <td>1.0</td>\n",
       "      <td>0.000401</td>\n",
       "    </tr>\n",
       "    <tr>\n",
       "      <th>2015-04-02 15:45:00</th>\n",
       "      <td>24.98</td>\n",
       "      <td>0.001202</td>\n",
       "      <td>24.9475</td>\n",
       "      <td>24.3463</td>\n",
       "      <td>1.0</td>\n",
       "      <td>0.001202</td>\n",
       "    </tr>\n",
       "  </tbody>\n",
       "</table>\n",
       "</div>"
      ],
      "text/plain": [
       "                     close  Actual Returns  SMA_Fast  SMA_Slow  Signal  \\\n",
       "date                                                                     \n",
       "2015-04-02 14:45:00  24.92        0.000000   24.9175   24.3214     1.0   \n",
       "2015-04-02 15:00:00  24.92        0.000000   24.9200   24.3308     1.0   \n",
       "2015-04-02 15:15:00  24.94        0.000803   24.9250   24.3360     1.0   \n",
       "2015-04-02 15:30:00  24.95        0.000401   24.9325   24.3411     1.0   \n",
       "2015-04-02 15:45:00  24.98        0.001202   24.9475   24.3463     1.0   \n",
       "\n",
       "                     Strategy Returns  \n",
       "date                                   \n",
       "2015-04-02 14:45:00               NaN  \n",
       "2015-04-02 15:00:00          0.000000  \n",
       "2015-04-02 15:15:00          0.000803  \n",
       "2015-04-02 15:30:00          0.000401  \n",
       "2015-04-02 15:45:00          0.001202  "
      ]
     },
     "metadata": {},
     "output_type": "display_data"
    },
    {
     "data": {
      "text/html": [
       "<div>\n",
       "<style scoped>\n",
       "    .dataframe tbody tr th:only-of-type {\n",
       "        vertical-align: middle;\n",
       "    }\n",
       "\n",
       "    .dataframe tbody tr th {\n",
       "        vertical-align: top;\n",
       "    }\n",
       "\n",
       "    .dataframe thead th {\n",
       "        text-align: right;\n",
       "    }\n",
       "</style>\n",
       "<table border=\"1\" class=\"dataframe\">\n",
       "  <thead>\n",
       "    <tr style=\"text-align: right;\">\n",
       "      <th></th>\n",
       "      <th>close</th>\n",
       "      <th>Actual Returns</th>\n",
       "      <th>SMA_Fast</th>\n",
       "      <th>SMA_Slow</th>\n",
       "      <th>Signal</th>\n",
       "      <th>Strategy Returns</th>\n",
       "    </tr>\n",
       "    <tr>\n",
       "      <th>date</th>\n",
       "      <th></th>\n",
       "      <th></th>\n",
       "      <th></th>\n",
       "      <th></th>\n",
       "      <th></th>\n",
       "      <th></th>\n",
       "    </tr>\n",
       "  </thead>\n",
       "  <tbody>\n",
       "    <tr>\n",
       "      <th>2021-01-22 09:30:00</th>\n",
       "      <td>33.27</td>\n",
       "      <td>-0.006866</td>\n",
       "      <td>33.2025</td>\n",
       "      <td>30.40215</td>\n",
       "      <td>-1.0</td>\n",
       "      <td>-0.006866</td>\n",
       "    </tr>\n",
       "    <tr>\n",
       "      <th>2021-01-22 11:30:00</th>\n",
       "      <td>33.35</td>\n",
       "      <td>0.002405</td>\n",
       "      <td>33.2725</td>\n",
       "      <td>30.44445</td>\n",
       "      <td>1.0</td>\n",
       "      <td>-0.002405</td>\n",
       "    </tr>\n",
       "    <tr>\n",
       "      <th>2021-01-22 13:45:00</th>\n",
       "      <td>33.42</td>\n",
       "      <td>0.002099</td>\n",
       "      <td>33.3850</td>\n",
       "      <td>30.48745</td>\n",
       "      <td>1.0</td>\n",
       "      <td>0.002099</td>\n",
       "    </tr>\n",
       "    <tr>\n",
       "      <th>2021-01-22 14:30:00</th>\n",
       "      <td>33.47</td>\n",
       "      <td>0.001496</td>\n",
       "      <td>33.3775</td>\n",
       "      <td>30.53085</td>\n",
       "      <td>1.0</td>\n",
       "      <td>0.001496</td>\n",
       "    </tr>\n",
       "    <tr>\n",
       "      <th>2021-01-22 15:45:00</th>\n",
       "      <td>33.44</td>\n",
       "      <td>-0.000896</td>\n",
       "      <td>33.4200</td>\n",
       "      <td>30.57495</td>\n",
       "      <td>-1.0</td>\n",
       "      <td>-0.000896</td>\n",
       "    </tr>\n",
       "  </tbody>\n",
       "</table>\n",
       "</div>"
      ],
      "text/plain": [
       "                     close  Actual Returns  SMA_Fast  SMA_Slow  Signal  \\\n",
       "date                                                                     \n",
       "2021-01-22 09:30:00  33.27       -0.006866   33.2025  30.40215    -1.0   \n",
       "2021-01-22 11:30:00  33.35        0.002405   33.2725  30.44445     1.0   \n",
       "2021-01-22 13:45:00  33.42        0.002099   33.3850  30.48745     1.0   \n",
       "2021-01-22 14:30:00  33.47        0.001496   33.3775  30.53085     1.0   \n",
       "2021-01-22 15:45:00  33.44       -0.000896   33.4200  30.57495    -1.0   \n",
       "\n",
       "                     Strategy Returns  \n",
       "date                                   \n",
       "2021-01-22 09:30:00         -0.006866  \n",
       "2021-01-22 11:30:00         -0.002405  \n",
       "2021-01-22 13:45:00          0.002099  \n",
       "2021-01-22 14:30:00          0.001496  \n",
       "2021-01-22 15:45:00         -0.000896  "
      ]
     },
     "metadata": {},
     "output_type": "display_data"
    }
   ],
   "source": [
    "# Calculate the strategy returns and add them to the signals_df DataFrame\n",
    "signals_df['Strategy Returns'] = signals_df['Actual Returns'] * signals_df['Signal'].shift()\n",
    "\n",
    "# Review the DataFrame\n",
    "display(signals_df.head())\n",
    "display(signals_df.tail())"
   ]
  },
  {
   "cell_type": "code",
   "execution_count": 24,
   "metadata": {},
   "outputs": [
    {
     "data": {
      "text/plain": [
       "<Axes: xlabel='date'>"
      ]
     },
     "execution_count": 24,
     "metadata": {},
     "output_type": "execute_result"
    },
    {
     "data": {
      "image/png": "[encoded data removed]",
      "text/plain": [
       "<Figure size 432x288 with 1 Axes>"
      ]
     },
     "metadata": {
      "needs_background": "light"
     },
     "output_type": "display_data"
    }
   ],
   "source": [
    "# Plot Strategy Returns to examine performance\n",
    "(1 + signals_df['Strategy Returns']).cumprod().plot()"
   ]
  },
  {
   "cell_type": "markdown",
   "metadata": {},
   "source": [
    "### Step 3: Split the data into training and testing datasets."
   ]
  },
  {
   "cell_type": "code",
   "execution_count": 26,
   "metadata": {},
   "outputs": [
    {
     "data": {
      "text/html": [
       "<div>\n",
       "<style scoped>\n",
       "    .dataframe tbody tr th:only-of-type {\n",
       "        vertical-align: middle;\n",
       "    }\n",
       "\n",
       "    .dataframe tbody tr th {\n",
       "        vertical-align: top;\n",
       "    }\n",
       "\n",
       "    .dataframe thead th {\n",
       "        text-align: right;\n",
       "    }\n",
       "</style>\n",
       "<table border=\"1\" class=\"dataframe\">\n",
       "  <thead>\n",
       "    <tr style=\"text-align: right;\">\n",
       "      <th></th>\n",
       "      <th>SMA_Fast</th>\n",
       "      <th>SMA_Slow</th>\n",
       "    </tr>\n",
       "    <tr>\n",
       "      <th>date</th>\n",
       "      <th></th>\n",
       "      <th></th>\n",
       "    </tr>\n",
       "  </thead>\n",
       "  <tbody>\n",
       "    <tr>\n",
       "      <th>2015-04-02 15:00:00</th>\n",
       "      <td>24.9175</td>\n",
       "      <td>24.3214</td>\n",
       "    </tr>\n",
       "    <tr>\n",
       "      <th>2015-04-02 15:15:00</th>\n",
       "      <td>24.9200</td>\n",
       "      <td>24.3308</td>\n",
       "    </tr>\n",
       "    <tr>\n",
       "      <th>2015-04-02 15:30:00</th>\n",
       "      <td>24.9250</td>\n",
       "      <td>24.3360</td>\n",
       "    </tr>\n",
       "    <tr>\n",
       "      <th>2015-04-02 15:45:00</th>\n",
       "      <td>24.9325</td>\n",
       "      <td>24.3411</td>\n",
       "    </tr>\n",
       "    <tr>\n",
       "      <th>2015-04-06 09:30:00</th>\n",
       "      <td>24.9475</td>\n",
       "      <td>24.3463</td>\n",
       "    </tr>\n",
       "  </tbody>\n",
       "</table>\n",
       "</div>"
      ],
      "text/plain": [
       "                     SMA_Fast  SMA_Slow\n",
       "date                                   \n",
       "2015-04-02 15:00:00   24.9175   24.3214\n",
       "2015-04-02 15:15:00   24.9200   24.3308\n",
       "2015-04-02 15:30:00   24.9250   24.3360\n",
       "2015-04-02 15:45:00   24.9325   24.3411\n",
       "2015-04-06 09:30:00   24.9475   24.3463"
      ]
     },
     "execution_count": 26,
     "metadata": {},
     "output_type": "execute_result"
    }
   ],
   "source": [
    "# Assign a copy of the sma_fast and sma_slow columns to a features DataFrame called X\n",
    "X = signals_df[['SMA_Fast', 'SMA_Slow']].shift().dropna()\n",
    "\n",
    "# Review the DataFrame\n",
    "X.head()"
   ]
  },
  {
   "cell_type": "code",
   "execution_count": 28,
   "metadata": {},
   "outputs": [
    {
     "data": {
      "text/plain": [
       "Signal\n",
       " 1.0    2368\n",
       "-1.0    1855\n",
       "Name: count, dtype: int64"
      ]
     },
     "execution_count": 28,
     "metadata": {},
     "output_type": "execute_result"
    }
   ],
   "source": [
    "# Create the target set selecting the Signal column and assiging it to y\n",
    "y = signals_df['Signal']\n",
    "\n",
    "# Review the value counts\n",
    "y.value_counts()"
   ]
  },
  {
   "cell_type": "code",
   "execution_count": 30,
   "metadata": {},
   "outputs": [
    {
     "name": "stdout",
     "output_type": "stream",
     "text": [
      "2015-04-02 15:00:00\n"
     ]
    }
   ],
   "source": [
    "# Select the start of the training period\n",
    "training_begin = X.index.min()\n",
    "\n",
    "# Display the training begin date\n",
    "print(training_begin)"
   ]
  },
  {
   "cell_type": "code",
   "execution_count": 32,
   "metadata": {},
   "outputs": [
    {
     "name": "stdout",
     "output_type": "stream",
     "text": [
      "2015-07-02 15:00:00\n"
     ]
    }
   ],
   "source": [
    "# Select the ending period for the training data with an offset of 3 months\n",
    "training_end = X.index.min() + DateOffset(months=3)\n",
    "\n",
    "# Display the training end date\n",
    "print(training_end)"
   ]
  },
  {
   "cell_type": "code",
   "execution_count": 34,
   "metadata": {},
   "outputs": [
    {
     "data": {
      "text/html": [
       "<div>\n",
       "<style scoped>\n",
       "    .dataframe tbody tr th:only-of-type {\n",
       "        vertical-align: middle;\n",
       "    }\n",
       "\n",
       "    .dataframe tbody tr th {\n",
       "        vertical-align: top;\n",
       "    }\n",
       "\n",
       "    .dataframe thead th {\n",
       "        text-align: right;\n",
       "    }\n",
       "</style>\n",
       "<table border=\"1\" class=\"dataframe\">\n",
       "  <thead>\n",
       "    <tr style=\"text-align: right;\">\n",
       "      <th></th>\n",
       "      <th>SMA_Fast</th>\n",
       "      <th>SMA_Slow</th>\n",
       "    </tr>\n",
       "    <tr>\n",
       "      <th>date</th>\n",
       "      <th></th>\n",
       "      <th></th>\n",
       "    </tr>\n",
       "  </thead>\n",
       "  <tbody>\n",
       "    <tr>\n",
       "      <th>2015-04-02 15:00:00</th>\n",
       "      <td>24.9175</td>\n",
       "      <td>24.3214</td>\n",
       "    </tr>\n",
       "    <tr>\n",
       "      <th>2015-04-02 15:15:00</th>\n",
       "      <td>24.9200</td>\n",
       "      <td>24.3308</td>\n",
       "    </tr>\n",
       "    <tr>\n",
       "      <th>2015-04-02 15:30:00</th>\n",
       "      <td>24.9250</td>\n",
       "      <td>24.3360</td>\n",
       "    </tr>\n",
       "    <tr>\n",
       "      <th>2015-04-02 15:45:00</th>\n",
       "      <td>24.9325</td>\n",
       "      <td>24.3411</td>\n",
       "    </tr>\n",
       "    <tr>\n",
       "      <th>2015-04-06 09:30:00</th>\n",
       "      <td>24.9475</td>\n",
       "      <td>24.3463</td>\n",
       "    </tr>\n",
       "  </tbody>\n",
       "</table>\n",
       "</div>"
      ],
      "text/plain": [
       "                     SMA_Fast  SMA_Slow\n",
       "date                                   \n",
       "2015-04-02 15:00:00   24.9175   24.3214\n",
       "2015-04-02 15:15:00   24.9200   24.3308\n",
       "2015-04-02 15:30:00   24.9250   24.3360\n",
       "2015-04-02 15:45:00   24.9325   24.3411\n",
       "2015-04-06 09:30:00   24.9475   24.3463"
      ]
     },
     "execution_count": 34,
     "metadata": {},
     "output_type": "execute_result"
    }
   ],
   "source": [
    "# Generate the X_train and y_train DataFrames\n",
    "X_train = X.loc[training_begin:training_end]\n",
    "y_train = y.loc[training_begin:training_end]\n",
    "\n",
    "# Review the X_train DataFrame\n",
    "X_train.head()"
   ]
  },
  {
   "cell_type": "code",
   "execution_count": 36,
   "metadata": {},
   "outputs": [
    {
     "data": {
      "text/html": [
       "<div>\n",
       "<style scoped>\n",
       "    .dataframe tbody tr th:only-of-type {\n",
       "        vertical-align: middle;\n",
       "    }\n",
       "\n",
       "    .dataframe tbody tr th {\n",
       "        vertical-align: top;\n",
       "    }\n",
       "\n",
       "    .dataframe thead th {\n",
       "        text-align: right;\n",
       "    }\n",
       "</style>\n",
       "<table border=\"1\" class=\"dataframe\">\n",
       "  <thead>\n",
       "    <tr style=\"text-align: right;\">\n",
       "      <th></th>\n",
       "      <th>SMA_Fast</th>\n",
       "      <th>SMA_Slow</th>\n",
       "    </tr>\n",
       "    <tr>\n",
       "      <th>date</th>\n",
       "      <th></th>\n",
       "      <th></th>\n",
       "    </tr>\n",
       "  </thead>\n",
       "  <tbody>\n",
       "    <tr>\n",
       "      <th>2015-04-02 15:00:00</th>\n",
       "      <td>24.9175</td>\n",
       "      <td>24.3214</td>\n",
       "    </tr>\n",
       "    <tr>\n",
       "      <th>2015-04-02 15:15:00</th>\n",
       "      <td>24.9200</td>\n",
       "      <td>24.3308</td>\n",
       "    </tr>\n",
       "    <tr>\n",
       "      <th>2015-04-02 15:30:00</th>\n",
       "      <td>24.9250</td>\n",
       "      <td>24.3360</td>\n",
       "    </tr>\n",
       "    <tr>\n",
       "      <th>2015-04-02 15:45:00</th>\n",
       "      <td>24.9325</td>\n",
       "      <td>24.3411</td>\n",
       "    </tr>\n",
       "    <tr>\n",
       "      <th>2015-04-06 09:30:00</th>\n",
       "      <td>24.9475</td>\n",
       "      <td>24.3463</td>\n",
       "    </tr>\n",
       "  </tbody>\n",
       "</table>\n",
       "</div>"
      ],
      "text/plain": [
       "                     SMA_Fast  SMA_Slow\n",
       "date                                   \n",
       "2015-04-02 15:00:00   24.9175   24.3214\n",
       "2015-04-02 15:15:00   24.9200   24.3308\n",
       "2015-04-02 15:30:00   24.9250   24.3360\n",
       "2015-04-02 15:45:00   24.9325   24.3411\n",
       "2015-04-06 09:30:00   24.9475   24.3463"
      ]
     },
     "execution_count": 36,
     "metadata": {},
     "output_type": "execute_result"
    }
   ],
   "source": [
    "# Generate the X_test and y_test DataFrames\n",
    "X_test = X.loc[training_end+DateOffset(hours=1):]\n",
    "y_test = y.loc[training_end+DateOffset(hours=1):]\n",
    "\n",
    "# Review the X_test DataFrame\n",
    "X_train.head()"
   ]
  },
  {
   "cell_type": "code",
   "execution_count": 38,
   "metadata": {},
   "outputs": [],
   "source": [
    "# Scale the features DataFrames\n",
    "\n",
    "# Create a StandardScaler instance\n",
    "scaler = StandardScaler()\n",
    "\n",
    "# Apply the scaler model to fit the X-train data\n",
    "X_scaler = scaler.fit(X_train)\n",
    "\n",
    "# Transform the X_train and X_test DataFrames using the X_scaler\n",
    "X_train_scaled = X_scaler.transform(X_train)\n",
    "X_test_scaled = X_scaler.transform(X_test)"
   ]
  },
  {
   "cell_type": "markdown",
   "metadata": {},
   "source": [
    "### Step 4: Use the `SVC` classifier model from SKLearn's support vector machine (SVM) learning method to fit the training data and make predictions based on the testing data. Review the predictions."
   ]
  },
  {
   "cell_type": "code",
   "execution_count": 40,
   "metadata": {},
   "outputs": [
    {
     "data": {
      "text/plain": [
       "array([1., 1., 1., 1., 1., 1., 1., 1., 1., 1.])"
      ]
     },
     "execution_count": 40,
     "metadata": {},
     "output_type": "execute_result"
    }
   ],
   "source": [
    "# From SVM, instantiate SVC classifier model instance\n",
    "svm_model = svm.SVC()\n",
    " \n",
    "# Fit the model to the data using the training data\n",
    "svm_model = svm_model.fit(X_train_scaled, y_train)\n",
    " \n",
    "# Use the testing data to make the model predictions\n",
    "svm_pred = svm_model.predict(X_train_scaled)\n",
    "\n",
    "# Review the model's predicted values\n",
    "svm_pred[:10]"
   ]
  },
  {
   "cell_type": "markdown",
   "metadata": {},
   "source": [
    "### Step 5: Review the classification report associated with the `SVC` model predictions. "
   ]
  },
  {
   "cell_type": "code",
   "execution_count": 42,
   "metadata": {},
   "outputs": [
    {
     "name": "stdout",
     "output_type": "stream",
     "text": [
      "              precision    recall  f1-score   support\n",
      "\n",
      "        -1.0       1.00      0.06      0.12        49\n",
      "         1.0       0.63      1.00      0.77        79\n",
      "\n",
      "    accuracy                           0.64       128\n",
      "   macro avg       0.82      0.53      0.44       128\n",
      "weighted avg       0.77      0.64      0.52       128\n",
      "\n"
     ]
    }
   ],
   "source": [
    "# Use a classification report to evaluate the model using the predictions and testing data\n",
    "svm_testing_report = classification_report(y_train, svm_pred)\n",
    "\n",
    "# Print the classification report\n",
    "print(svm_testing_report)"
   ]
  },
  {
   "cell_type": "markdown",
   "metadata": {},
   "source": [
    "### Step 6: Create a predictions DataFrame that contains columns for “Predicted” values, “Actual Returns”, and “Strategy Returns”."
   ]
  },
  {
   "cell_type": "code",
   "execution_count": 46,
   "metadata": {},
   "outputs": [
    {
     "data": {
      "text/html": [
       "<div>\n",
       "<style scoped>\n",
       "    .dataframe tbody tr th:only-of-type {\n",
       "        vertical-align: middle;\n",
       "    }\n",
       "\n",
       "    .dataframe tbody tr th {\n",
       "        vertical-align: top;\n",
       "    }\n",
       "\n",
       "    .dataframe thead th {\n",
       "        text-align: right;\n",
       "    }\n",
       "</style>\n",
       "<table border=\"1\" class=\"dataframe\">\n",
       "  <thead>\n",
       "    <tr style=\"text-align: right;\">\n",
       "      <th></th>\n",
       "      <th>Predicted</th>\n",
       "      <th>Actual Returns</th>\n",
       "      <th>Strategy Returns</th>\n",
       "    </tr>\n",
       "    <tr>\n",
       "      <th>date</th>\n",
       "      <th></th>\n",
       "      <th></th>\n",
       "      <th></th>\n",
       "    </tr>\n",
       "  </thead>\n",
       "  <tbody>\n",
       "    <tr>\n",
       "      <th>2015-04-02 15:00:00</th>\n",
       "      <td>1.0</td>\n",
       "      <td>0.000000</td>\n",
       "      <td>0.000000</td>\n",
       "    </tr>\n",
       "    <tr>\n",
       "      <th>2015-04-02 15:15:00</th>\n",
       "      <td>1.0</td>\n",
       "      <td>0.000803</td>\n",
       "      <td>0.000803</td>\n",
       "    </tr>\n",
       "    <tr>\n",
       "      <th>2015-04-02 15:30:00</th>\n",
       "      <td>1.0</td>\n",
       "      <td>0.000401</td>\n",
       "      <td>0.000401</td>\n",
       "    </tr>\n",
       "    <tr>\n",
       "      <th>2015-04-02 15:45:00</th>\n",
       "      <td>1.0</td>\n",
       "      <td>0.001202</td>\n",
       "      <td>0.001202</td>\n",
       "    </tr>\n",
       "    <tr>\n",
       "      <th>2015-04-06 09:30:00</th>\n",
       "      <td>1.0</td>\n",
       "      <td>0.007206</td>\n",
       "      <td>0.007206</td>\n",
       "    </tr>\n",
       "  </tbody>\n",
       "</table>\n",
       "</div>"
      ],
      "text/plain": [
       "                     Predicted  Actual Returns  Strategy Returns\n",
       "date                                                            \n",
       "2015-04-02 15:00:00        1.0        0.000000          0.000000\n",
       "2015-04-02 15:15:00        1.0        0.000803          0.000803\n",
       "2015-04-02 15:30:00        1.0        0.000401          0.000401\n",
       "2015-04-02 15:45:00        1.0        0.001202          0.001202\n",
       "2015-04-06 09:30:00        1.0        0.007206          0.007206"
      ]
     },
     "metadata": {},
     "output_type": "display_data"
    },
    {
     "data": {
      "text/html": [
       "<div>\n",
       "<style scoped>\n",
       "    .dataframe tbody tr th:only-of-type {\n",
       "        vertical-align: middle;\n",
       "    }\n",
       "\n",
       "    .dataframe tbody tr th {\n",
       "        vertical-align: top;\n",
       "    }\n",
       "\n",
       "    .dataframe thead th {\n",
       "        text-align: right;\n",
       "    }\n",
       "</style>\n",
       "<table border=\"1\" class=\"dataframe\">\n",
       "  <thead>\n",
       "    <tr style=\"text-align: right;\">\n",
       "      <th></th>\n",
       "      <th>Predicted</th>\n",
       "      <th>Actual Returns</th>\n",
       "      <th>Strategy Returns</th>\n",
       "    </tr>\n",
       "    <tr>\n",
       "      <th>date</th>\n",
       "      <th></th>\n",
       "      <th></th>\n",
       "      <th></th>\n",
       "    </tr>\n",
       "  </thead>\n",
       "  <tbody>\n",
       "    <tr>\n",
       "      <th>2015-06-30 12:15:00</th>\n",
       "      <td>1.0</td>\n",
       "      <td>0.000000</td>\n",
       "      <td>0.000000</td>\n",
       "    </tr>\n",
       "    <tr>\n",
       "      <th>2015-06-30 14:00:00</th>\n",
       "      <td>1.0</td>\n",
       "      <td>0.006240</td>\n",
       "      <td>0.006240</td>\n",
       "    </tr>\n",
       "    <tr>\n",
       "      <th>2015-06-30 14:15:00</th>\n",
       "      <td>1.0</td>\n",
       "      <td>-0.002480</td>\n",
       "      <td>-0.002480</td>\n",
       "    </tr>\n",
       "    <tr>\n",
       "      <th>2015-06-30 15:00:00</th>\n",
       "      <td>1.0</td>\n",
       "      <td>-0.000829</td>\n",
       "      <td>0.000829</td>\n",
       "    </tr>\n",
       "    <tr>\n",
       "      <th>2015-07-02 10:45:00</th>\n",
       "      <td>1.0</td>\n",
       "      <td>0.001659</td>\n",
       "      <td>-0.001659</td>\n",
       "    </tr>\n",
       "  </tbody>\n",
       "</table>\n",
       "</div>"
      ],
      "text/plain": [
       "                     Predicted  Actual Returns  Strategy Returns\n",
       "date                                                            \n",
       "2015-06-30 12:15:00        1.0        0.000000          0.000000\n",
       "2015-06-30 14:00:00        1.0        0.006240          0.006240\n",
       "2015-06-30 14:15:00        1.0       -0.002480         -0.002480\n",
       "2015-06-30 15:00:00        1.0       -0.000829          0.000829\n",
       "2015-07-02 10:45:00        1.0        0.001659         -0.001659"
      ]
     },
     "metadata": {},
     "output_type": "display_data"
    }
   ],
   "source": [
    "# Create a new empty predictions DataFrame.\n",
    "\n",
    "# Create a predictions DataFrame \n",
    "predictions_df =  pd.DataFrame(index=X_train.index)       \n",
    "\n",
    "# Add the SVM model predictions to the DataFrame\n",
    "predictions_df['Predicted'] = svm_pred\n",
    "\n",
    "# Add the actual returns to the DataFrame\n",
    "predictions_df['Actual Returns'] = signals_df['Actual Returns']\n",
    "\n",
    "# Add the strategy returns to the DataFrame\n",
    "predictions_df['Strategy Returns'] = signals_df['Strategy Returns']\n",
    "\n",
    "# Review the DataFrame\n",
    "display(predictions_df.head())\n",
    "display(predictions_df.tail())"
   ]
  },
  {
   "cell_type": "markdown",
   "metadata": {},
   "source": [
    "### Step 7: Create a cumulative return plot that shows the actual returns vs. the strategy returns. Save a PNG image of this plot. This will serve as a baseline against which to compare the effects of tuning the trading algorithm."
   ]
  },
  {
   "cell_type": "code",
   "execution_count": 48,
   "metadata": {},
   "outputs": [
    {
     "data": {
      "text/plain": [
       "<Axes: xlabel='date'>"
      ]
     },
     "execution_count": 48,
     "metadata": {},
     "output_type": "execute_result"
    },
    {
     "data": {
      "image/png": "[encoded data removed]",
      "text/plain": [
       "<Figure size 432x288 with 1 Axes>"
      ]
     },
     "metadata": {
      "needs_background": "light"
     },
     "output_type": "display_data"
    }
   ],
   "source": [
    "# Plot the actual returns versus the strategy returns\n",
    "(1 + predictions_df[[\"Actual Returns\", \"Strategy Returns\"]]).cumprod().plot()"
   ]
  },
  {
   "cell_type": "markdown",
   "metadata": {},
   "source": [
    "---\n",
    "\n",
    "## Tune the Baseline Trading Algorithm"
   ]
  },
  {
   "cell_type": "markdown",
   "metadata": {},
   "source": [
    "In this section, you’ll tune, or adjust, the model’s input features to find the parameters that result in the best trading outcomes. You’ll choose the best by comparing the cumulative products of the strategy returns."
   ]
  },
  {
   "cell_type": "markdown",
   "metadata": {},
   "source": [
    "### Step 1: Tune the training algorithm by adjusting the size of the training dataset. \n",
    "\n",
    "To do so, slice your data into different periods. Rerun the notebook with the updated parameters, and record the results in your `README.md` file. \n",
    "\n",
    "Answer the following question: What impact resulted from increasing or decreasing the training window?"
   ]
  },
  {
   "cell_type": "markdown",
   "metadata": {},
   "source": [
    "### Step 2: Tune the trading algorithm by adjusting the SMA input features. \n",
    "\n",
    "Adjust one or both of the windows for the algorithm. Rerun the notebook with the updated parameters, and record the results in your `README.md` file. \n",
    "\n",
    "Answer the following question: What impact resulted from increasing or decreasing either or both of the SMA windows?"
   ]
  },
  {
   "cell_type": "markdown",
   "metadata": {},
   "source": [
    "### Step 3: Choose the set of parameters that best improved the trading algorithm returns. \n",
    "\n",
    "Save a PNG image of the cumulative product of the actual returns vs. the strategy returns, and document your conclusion in your `README.md` file."
   ]
  },
  {
   "cell_type": "markdown",
   "metadata": {},
   "source": [
    "---\n",
    "\n",
    "## Evaluate a New Machine Learning Classifier\n",
    "\n",
    "In this section, you’ll use the original parameters that the starter code provided. But, you’ll apply them to the performance of a second machine learning model. "
   ]
  },
  {
   "cell_type": "markdown",
   "metadata": {},
   "source": [
    "### Step 1:  Import a new classifier, such as `AdaBoost`, `DecisionTreeClassifier`, or `LogisticRegression`. (For the full list of classifiers, refer to the [Supervised learning page](https://scikit-learn.org/stable/supervised_learning.html) in the scikit-learn documentation.)"
   ]
  },
  {
   "cell_type": "code",
   "execution_count": 50,
   "metadata": {},
   "outputs": [],
   "source": [
    "# Import a new classifier from SKLearn\n",
    "from sklearn.linear_model import LogisticRegression\n",
    "# Initiate the model instance\n",
    "model=LogisticRegression(random_state=1)"
   ]
  },
  {
   "cell_type": "markdown",
   "metadata": {},
   "source": [
    "### Step 2: Using the original training data as the baseline model, fit another model with the new classifier."
   ]
  },
  {
   "cell_type": "code",
   "execution_count": 52,
   "metadata": {},
   "outputs": [
    {
     "data": {
      "text/plain": [
       "array([1., 1., 1., 1., 1., 1., 1., 1., 1., 1.])"
      ]
     },
     "execution_count": 52,
     "metadata": {},
     "output_type": "execute_result"
    }
   ],
   "source": [
    "# Fit the model using the training data\n",
    "model.fit(X_train_scaled,y_train)\n",
    "\n",
    "# Use the testing dataset to generate the predictions for the new model\n",
    "lr_pred =model.predict(X_test_scaled)\n",
    "\n",
    "# Review the model's predicted values\n",
    "lr_pred[:10]"
   ]
  },
  {
   "cell_type": "markdown",
   "metadata": {},
   "source": [
    "### Step 3: Backtest the new model to evaluate its performance. \n",
    "\n",
    "Save a PNG image of the cumulative product of the actual returns vs. the strategy returns for this updated trading algorithm, and write your conclusions in your `README.md` file. \n",
    "\n",
    "Answer the following questions: \n",
    "Did this new model perform better or worse than the provided baseline model? \n",
    "Did this new model perform better or worse than your tuned trading algorithm?"
   ]
  },
  {
   "cell_type": "code",
   "execution_count": 54,
   "metadata": {},
   "outputs": [
    {
     "name": "stdout",
     "output_type": "stream",
     "text": [
      "              precision    recall  f1-score   support\n",
      "\n",
      "        -1.0       0.44      0.33      0.38      1804\n",
      "         1.0       0.56      0.66      0.61      2288\n",
      "\n",
      "    accuracy                           0.52      4092\n",
      "   macro avg       0.50      0.50      0.49      4092\n",
      "weighted avg       0.51      0.52      0.51      4092\n",
      "\n"
     ]
    }
   ],
   "source": [
    "# Use a classification report to evaluate the model using the predictions and testing data\n",
    "lr_testing_report = classification_report(y_test\n",
    "                                          , lr_pred)\n",
    "# Print the classification report\n",
    "print(lr_testing_report)"
   ]
  },
  {
   "cell_type": "code",
   "execution_count": 58,
   "metadata": {},
   "outputs": [
    {
     "data": {
      "text/html": [
       "<div>\n",
       "<style scoped>\n",
       "    .dataframe tbody tr th:only-of-type {\n",
       "        vertical-align: middle;\n",
       "    }\n",
       "\n",
       "    .dataframe tbody tr th {\n",
       "        vertical-align: top;\n",
       "    }\n",
       "\n",
       "    .dataframe thead th {\n",
       "        text-align: right;\n",
       "    }\n",
       "</style>\n",
       "<table border=\"1\" class=\"dataframe\">\n",
       "  <thead>\n",
       "    <tr style=\"text-align: right;\">\n",
       "      <th></th>\n",
       "      <th>Predicted</th>\n",
       "      <th>Actual Returns</th>\n",
       "      <th>Strategy Returns</th>\n",
       "    </tr>\n",
       "    <tr>\n",
       "      <th>date</th>\n",
       "      <th></th>\n",
       "      <th></th>\n",
       "      <th></th>\n",
       "    </tr>\n",
       "  </thead>\n",
       "  <tbody>\n",
       "    <tr>\n",
       "      <th>2015-04-02 15:00:00</th>\n",
       "      <td>1.0</td>\n",
       "      <td>0.000000</td>\n",
       "      <td>0.000000</td>\n",
       "    </tr>\n",
       "    <tr>\n",
       "      <th>2015-04-02 15:15:00</th>\n",
       "      <td>1.0</td>\n",
       "      <td>0.000803</td>\n",
       "      <td>0.000803</td>\n",
       "    </tr>\n",
       "    <tr>\n",
       "      <th>2015-04-02 15:30:00</th>\n",
       "      <td>1.0</td>\n",
       "      <td>0.000401</td>\n",
       "      <td>0.000401</td>\n",
       "    </tr>\n",
       "    <tr>\n",
       "      <th>2015-04-02 15:45:00</th>\n",
       "      <td>1.0</td>\n",
       "      <td>0.001202</td>\n",
       "      <td>0.001202</td>\n",
       "    </tr>\n",
       "    <tr>\n",
       "      <th>2015-04-06 09:30:00</th>\n",
       "      <td>1.0</td>\n",
       "      <td>0.007206</td>\n",
       "      <td>0.007206</td>\n",
       "    </tr>\n",
       "  </tbody>\n",
       "</table>\n",
       "</div>"
      ],
      "text/plain": [
       "                     Predicted  Actual Returns  Strategy Returns\n",
       "date                                                            \n",
       "2015-04-02 15:00:00        1.0        0.000000          0.000000\n",
       "2015-04-02 15:15:00        1.0        0.000803          0.000803\n",
       "2015-04-02 15:30:00        1.0        0.000401          0.000401\n",
       "2015-04-02 15:45:00        1.0        0.001202          0.001202\n",
       "2015-04-06 09:30:00        1.0        0.007206          0.007206"
      ]
     },
     "metadata": {},
     "output_type": "display_data"
    },
    {
     "data": {
      "text/html": [
       "<div>\n",
       "<style scoped>\n",
       "    .dataframe tbody tr th:only-of-type {\n",
       "        vertical-align: middle;\n",
       "    }\n",
       "\n",
       "    .dataframe tbody tr th {\n",
       "        vertical-align: top;\n",
       "    }\n",
       "\n",
       "    .dataframe thead th {\n",
       "        text-align: right;\n",
       "    }\n",
       "</style>\n",
       "<table border=\"1\" class=\"dataframe\">\n",
       "  <thead>\n",
       "    <tr style=\"text-align: right;\">\n",
       "      <th></th>\n",
       "      <th>Predicted</th>\n",
       "      <th>Actual Returns</th>\n",
       "      <th>Strategy Returns</th>\n",
       "    </tr>\n",
       "    <tr>\n",
       "      <th>date</th>\n",
       "      <th></th>\n",
       "      <th></th>\n",
       "      <th></th>\n",
       "    </tr>\n",
       "  </thead>\n",
       "  <tbody>\n",
       "    <tr>\n",
       "      <th>2015-06-30 12:15:00</th>\n",
       "      <td>1.0</td>\n",
       "      <td>0.000000</td>\n",
       "      <td>0.000000</td>\n",
       "    </tr>\n",
       "    <tr>\n",
       "      <th>2015-06-30 14:00:00</th>\n",
       "      <td>1.0</td>\n",
       "      <td>0.006240</td>\n",
       "      <td>0.006240</td>\n",
       "    </tr>\n",
       "    <tr>\n",
       "      <th>2015-06-30 14:15:00</th>\n",
       "      <td>1.0</td>\n",
       "      <td>-0.002480</td>\n",
       "      <td>-0.002480</td>\n",
       "    </tr>\n",
       "    <tr>\n",
       "      <th>2015-06-30 15:00:00</th>\n",
       "      <td>1.0</td>\n",
       "      <td>-0.000829</td>\n",
       "      <td>0.000829</td>\n",
       "    </tr>\n",
       "    <tr>\n",
       "      <th>2015-07-02 10:45:00</th>\n",
       "      <td>1.0</td>\n",
       "      <td>0.001659</td>\n",
       "      <td>-0.001659</td>\n",
       "    </tr>\n",
       "  </tbody>\n",
       "</table>\n",
       "</div>"
      ],
      "text/plain": [
       "                     Predicted  Actual Returns  Strategy Returns\n",
       "date                                                            \n",
       "2015-06-30 12:15:00        1.0        0.000000          0.000000\n",
       "2015-06-30 14:00:00        1.0        0.006240          0.006240\n",
       "2015-06-30 14:15:00        1.0       -0.002480         -0.002480\n",
       "2015-06-30 15:00:00        1.0       -0.000829          0.000829\n",
       "2015-07-02 10:45:00        1.0        0.001659         -0.001659"
      ]
     },
     "metadata": {},
     "output_type": "display_data"
    }
   ],
   "source": [
    " #Create a new empty predictions DataFrame.\n",
    "\n",
    "# Create a predictions DataFrame\n",
    "lr_predictions_df =  pd.DataFrame(index=X_test.index) \n",
    "# Add the SVM model predictions to the DataFrame\n",
    "lr_predictions_df['Predicted'] = lr_pred\n",
    "\n",
    "# Add the actual returns to the DataFrame\n",
    "lr_predictions_df['Actual Returns'] = signals_df['Actual Returns']\n",
    "\n",
    "# Add the strategy returns to the DataFrame\n",
    "lr_predictions_df['Strategy Returns'] = signals_df['Strategy Returns']\n",
    "\n",
    "# Review the DataFrame\n",
    "display(predictions_df.head())\n",
    "display(predictions_df.tail())"
   ]
  },
  {
   "cell_type": "code",
   "execution_count": 60,
   "metadata": {},
   "outputs": [
    {
     "data": {
      "text/plain": [
       "<Axes: xlabel='date'>"
      ]
     },
     "execution_count": 60,
     "metadata": {},
     "output_type": "execute_result"
    },
    {
     "data": {
      "image/png": "[encoded data removed]",
      "text/plain": [
       "<Figure size 432x288 with 1 Axes>"
      ]
     },
     "metadata": {
      "needs_background": "light"
     },
     "output_type": "display_data"
    }
   ],
   "source": [
    "# Plot the actual returns versus the strategy returns\n",
    "(1 + lr_predictions_df[[\"Actual Returns\", \"Strategy Returns\"]]).cumprod().plot()\n"
   ]
  },
  {
   "cell_type": "code",
   "execution_count": null,
   "metadata": {},
   "outputs": [],
   "source": []
  }
 ],
 "metadata": {
  "kernelspec": {
   "display_name": "anaconda-2022.05-py39",
   "language": "python",
   "name": "conda-env-anaconda-2022.05-py39-py"
  },
  "language_info": {
   "codemirror_mode": {
    "name": "ipython",
    "version": 3
   },
   "file_extension": ".py",
   "mimetype": "text/x-python",
   "name": "python",
   "nbconvert_exporter": "python",
   "pygments_lexer": "ipython3",
   "version": "3.9.12"
  }
 },
 "nbformat": 4,
 "nbformat_minor": 4
}
